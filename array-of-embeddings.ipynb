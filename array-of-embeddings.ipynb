{
 "cells": [
  {
   "cell_type": "code",
   "execution_count": 1,
   "metadata": {
    "_cell_guid": "b1076dfc-b9ad-4769-8c92-a6c4dae69d19",
    "_uuid": "8f2839f25d086af736a60e9eeb907d3b93b6e0e5"
   },
   "outputs": [
    {
     "name": "stdout",
     "output_type": "stream",
     "text": [
      "/kaggle/input/fasttext-twitter-derived-embeddings/twitter_derived_embeddings\n",
      "/kaggle/input/nlp-getting-started/sample_submission.csv\n",
      "/kaggle/input/nlp-getting-started/test.csv\n",
      "/kaggle/input/nlp-getting-started/train.csv\n"
     ]
    }
   ],
   "source": [
    "# This Python 3 environment comes with many helpful analytics libraries installed\n",
    "# It is defined by the kaggle/python docker image: https://github.com/kaggle/docker-python\n",
    "# For example, here's several helpful packages to load in \n",
    "\n",
    "import numpy as np # linear algebra\n",
    "import pandas as pd # data processing, CSV file I/O (e.g. pd.read_csv)\n",
    "\n",
    "# Input data files are available in the \"../input/\" directory.\n",
    "# For example, running this (by clicking run or pressing Shift+Enter) will list all files under the input directory\n",
    "\n",
    "import os\n",
    "for dirname, _, filenames in os.walk('/kaggle/input'):\n",
    "    for filename in filenames:\n",
    "        print(os.path.join(dirname, filename))\n",
    "\n",
    "# Any results you write to the current directory are saved as output."
   ]
  },
  {
   "cell_type": "code",
   "execution_count": 2,
   "metadata": {
    "_cell_guid": "79c7e3d0-c299-4dcb-8224-4455121ee9b0",
    "_uuid": "d629ff2d2480ee46fbb7e2d37f6b5fab8052498a"
   },
   "outputs": [],
   "source": [
    "#%%time\n",
    "\n",
    "#fasttext_embeddings = np.load('../input/pickled-crawl300d2m-for-kernel-competitions/crawl-300d-2M.pkl', allow_pickle=True)"
   ]
  },
  {
   "cell_type": "code",
   "execution_count": 3,
   "metadata": {},
   "outputs": [
    {
     "data": {
      "text/html": [
       "<div>\n",
       "<style scoped>\n",
       "    .dataframe tbody tr th:only-of-type {\n",
       "        vertical-align: middle;\n",
       "    }\n",
       "\n",
       "    .dataframe tbody tr th {\n",
       "        vertical-align: top;\n",
       "    }\n",
       "\n",
       "    .dataframe thead th {\n",
       "        text-align: right;\n",
       "    }\n",
       "</style>\n",
       "<table border=\"1\" class=\"dataframe\">\n",
       "  <thead>\n",
       "    <tr style=\"text-align: right;\">\n",
       "      <th></th>\n",
       "      <th>Token</th>\n",
       "      <th>Embeddings</th>\n",
       "    </tr>\n",
       "  </thead>\n",
       "  <tbody>\n",
       "    <tr>\n",
       "      <th>0</th>\n",
       "      <td>aa</td>\n",
       "      <td>[0.06992905, -0.6443515, 0.32829714, -0.420536...</td>\n",
       "    </tr>\n",
       "    <tr>\n",
       "      <th>1</th>\n",
       "      <td>aaaa</td>\n",
       "      <td>[-0.29368854, -0.28680354, 0.082138516, -0.093...</td>\n",
       "    </tr>\n",
       "    <tr>\n",
       "      <th>2</th>\n",
       "      <td>aaaaaaallll</td>\n",
       "      <td>[0.21100129, -0.24272849, -0.15285794, -0.2225...</td>\n",
       "    </tr>\n",
       "    <tr>\n",
       "      <th>3</th>\n",
       "      <td>aaaaaand</td>\n",
       "      <td>[0.15002657, 0.121883154, -0.13981317, 0.04672...</td>\n",
       "    </tr>\n",
       "    <tr>\n",
       "      <th>4</th>\n",
       "      <td>aaarrrgghhh</td>\n",
       "      <td>[0.23939471, -0.120745406, -0.023043174, -0.16...</td>\n",
       "    </tr>\n",
       "  </tbody>\n",
       "</table>\n",
       "</div>"
      ],
      "text/plain": [
       "         Token                                         Embeddings\n",
       "0           aa  [0.06992905, -0.6443515, 0.32829714, -0.420536...\n",
       "1         aaaa  [-0.29368854, -0.28680354, 0.082138516, -0.093...\n",
       "2  aaaaaaallll  [0.21100129, -0.24272849, -0.15285794, -0.2225...\n",
       "3     aaaaaand  [0.15002657, 0.121883154, -0.13981317, 0.04672...\n",
       "4  aaarrrgghhh  [0.23939471, -0.120745406, -0.023043174, -0.16..."
      ]
     },
     "execution_count": 3,
     "metadata": {},
     "output_type": "execute_result"
    }
   ],
   "source": [
    "embeddings_df = pd.read_pickle('/kaggle/input/fasttext-twitter-derived-embeddings/twitter_derived_embeddings')\n",
    "embeddings_df.head()"
   ]
  },
  {
   "cell_type": "code",
   "execution_count": 4,
   "metadata": {},
   "outputs": [
    {
     "data": {
      "text/plain": [
       "array([ 0.36360028,  0.06347924, -0.20796725, -0.1053633 , -0.4619699 ,\n",
       "       -0.5379099 , -0.24516329, -0.373171  ,  0.55195075, -0.0964388 ,\n",
       "       -0.02738901, -0.68742454,  0.04655449,  0.31652683, -0.28420547,\n",
       "        0.32772318, -0.48024014, -0.5669692 ,  0.5986041 , -0.4811064 ],\n",
       "      dtype=float32)"
      ]
     },
     "execution_count": 4,
     "metadata": {},
     "output_type": "execute_result"
    }
   ],
   "source": [
    "EMBEDDING_DIM = 300\n",
    "\n",
    "fasttext_embedding_idx = {}\n",
    "for idx, row in embeddings_df.iterrows():\n",
    "    word = row[0]\n",
    "    embeddings = np.asarray(row[1], 'float32')\n",
    "    fasttext_embedding_idx[word] = embeddings\n",
    "\n",
    "# print only 20\n",
    "fasttext_embedding_idx['earthquake'][:20]\n",
    "\n"
   ]
  },
  {
   "cell_type": "code",
   "execution_count": 5,
   "metadata": {},
   "outputs": [
    {
     "data": {
      "text/plain": [
       "array([ 0.3942571 , -0.00165699,  0.21576007, -0.6281674 , -0.61796415,\n",
       "        0.5220277 , -0.10654958, -0.51835054,  0.11060573, -0.45126608,\n",
       "       -0.65426755, -0.5152729 , -0.17358208,  0.15663569, -0.18588951,\n",
       "        0.26260749, -0.5199955 , -0.48783213,  0.64488477, -0.32145846],\n",
       "      dtype=float32)"
      ]
     },
     "execution_count": 5,
     "metadata": {},
     "output_type": "execute_result"
    }
   ],
   "source": [
    "fasttext_embedding_idx['volcano'][:20]"
   ]
  },
  {
   "cell_type": "code",
   "execution_count": 6,
   "metadata": {},
   "outputs": [
    {
     "data": {
      "text/plain": [
       "'\\nhyper_params = {\"lr\": 0.01,\\n    \"epoch\": 20,\\n    \"wordNgrams\": 2,\\n    \"dim\": 20}     \\n        \\n# Train the model.\\nmodel = fastText.train_supervised(input=training_data_path, **hyper_params)\\nprint(\"Model trained with the hyperparameter \\n {}\".format(hyper_params))\\n'"
      ]
     },
     "execution_count": 6,
     "metadata": {},
     "output_type": "execute_result"
    }
   ],
   "source": [
    "'''\n",
    "hyper_params = {\"lr\": 0.01,\n",
    "    \"epoch\": 20,\n",
    "    \"wordNgrams\": 2,\n",
    "    \"dim\": 20}     \n",
    "        \n",
    "# Train the model.\n",
    "model = fastText.train_supervised(input=training_data_path, **hyper_params)\n",
    "print(\"Model trained with the hyperparameter \\n {}\".format(hyper_params))\n",
    "'''"
   ]
  },
  {
   "cell_type": "code",
   "execution_count": 7,
   "metadata": {},
   "outputs": [
    {
     "data": {
      "text/plain": [
       "'\\nimport fasttext\\nimport fasttext.util\\n'"
      ]
     },
     "execution_count": 7,
     "metadata": {},
     "output_type": "execute_result"
    }
   ],
   "source": [
    "'''\n",
    "import fasttext\n",
    "import fasttext.util\n",
    "'''"
   ]
  },
  {
   "cell_type": "code",
   "execution_count": 8,
   "metadata": {},
   "outputs": [],
   "source": [
    "#ftmodel = fasttext.train_supervised(input='/kaggle/input/nlp-getting-started/train.csv',label_prefix=\"__label__\",neg=5,epoch=10,dim=300,loss='hs',word_ngrams=2,ws=4,minn=2,maxn=6,pretrainedVectors='/kaggle/input/fasttext-twitter-derived-embeddings/twitter_derived_embeddings')"
   ]
  },
  {
   "cell_type": "code",
   "execution_count": 9,
   "metadata": {},
   "outputs": [
    {
     "data": {
      "text/plain": [
       "array([ 3.94257098e-01, -1.65699038e-03,  2.15760067e-01, -6.28167391e-01,\n",
       "       -6.17964149e-01,  5.22027671e-01, -1.06549583e-01, -5.18350542e-01,\n",
       "        1.10605732e-01, -4.51266080e-01, -6.54267550e-01, -5.15272915e-01,\n",
       "       -1.73582077e-01,  1.56635687e-01, -1.85889512e-01,  2.62607485e-01,\n",
       "       -5.19995511e-01, -4.87832129e-01,  6.44884765e-01, -3.21458459e-01,\n",
       "        2.15166628e-01,  4.63117570e-01,  1.07958339e-01,  2.89399117e-01,\n",
       "       -2.00538011e-03, -7.02303588e-01,  1.47227183e-01,  8.57290998e-03,\n",
       "       -2.62118757e-01, -1.99248493e-02, -2.92139560e-01, -6.36468530e-01,\n",
       "       -1.13391653e-01, -4.46380913e-01, -4.72226202e-01,  6.44273683e-02,\n",
       "        3.57106954e-01, -3.91963273e-01,  5.86057484e-01, -2.09324867e-01,\n",
       "       -4.89988290e-02,  1.80484653e-02,  3.29997599e-01, -7.50802904e-02,\n",
       "        6.11840546e-01, -1.68475494e-01, -5.33606887e-01, -1.96631297e-01,\n",
       "       -1.74290668e-02,  3.24276417e-01, -2.48807222e-01,  4.34415281e-01,\n",
       "       -2.90339410e-01,  4.47788462e-02, -1.71241447e-01,  9.63647291e-02,\n",
       "        1.71134606e-01,  8.71687979e-02, -9.11431849e-01,  6.08302318e-02,\n",
       "       -2.04228744e-01,  1.85265541e-01, -1.73007414e-01, -4.70679030e-02,\n",
       "        2.34681904e-01, -6.22619204e-02, -4.12881225e-01, -2.85384804e-01,\n",
       "       -4.07335460e-01, -2.37726316e-01, -3.45920436e-02,  7.44560659e-02,\n",
       "        2.16826811e-01,  6.84673488e-02,  6.97282970e-01,  1.09918699e-01,\n",
       "        1.01711571e+00,  1.48366719e-01, -1.27439320e-01, -3.46181914e-02,\n",
       "       -1.81465894e-01, -5.48697449e-02,  7.97648132e-01,  2.09635615e-01,\n",
       "        3.43220890e-01,  1.46865144e-01, -7.59538651e-01, -4.97859627e-01,\n",
       "       -3.49956681e-03,  5.21947980e-01,  1.47404877e-04, -3.70052345e-02,\n",
       "       -1.82542846e-01,  5.65254688e-03,  3.33114946e-03, -2.41843000e-01,\n",
       "       -6.93064809e-01,  1.55671358e-01,  1.89221278e-02,  4.02318686e-01,\n",
       "       -5.54801747e-02,  4.82561737e-01,  6.80536330e-02,  2.99519807e-01,\n",
       "       -6.46538511e-02, -3.65726888e-01,  1.23844303e-01, -3.43340874e-01,\n",
       "       -6.00018725e-02, -4.49904621e-01, -3.77133667e-01,  3.54644418e-01,\n",
       "       -3.35574031e-01,  6.49040878e-01, -1.96598083e-01, -3.77970338e-02,\n",
       "        3.95151854e-01, -4.13060784e-01,  9.66821536e-02,  5.45099676e-01,\n",
       "        5.81302583e-01,  1.57953754e-01, -5.10804415e-01,  3.38344127e-01,\n",
       "       -1.88565716e-01,  2.66699046e-01,  4.29674797e-02,  5.80081344e-01,\n",
       "        5.32766521e-01, -1.84928566e-01, -9.23602581e-02, -9.05418172e-02,\n",
       "        2.64025360e-01,  4.17338252e-01, -1.01351716e-01, -6.41729832e-02,\n",
       "        3.03440243e-01,  4.99838680e-01,  7.28470385e-01,  8.31564069e-02,\n",
       "        2.82161403e-03,  6.45763218e-01,  3.33769649e-01, -2.10357144e-01,\n",
       "       -1.75451800e-01,  1.49350673e-01, -2.44747505e-01, -1.72611564e-01,\n",
       "       -1.84528604e-01, -8.26376081e-02,  2.82175332e-01, -2.31916010e-01,\n",
       "       -3.08041126e-01,  5.22844434e-01,  1.08550325e-01, -4.16026086e-01,\n",
       "       -1.98094264e-01, -9.87635329e-02, -1.75506417e-02, -5.69483995e-01,\n",
       "       -1.34885728e-01, -3.23581964e-01, -3.70981604e-01,  4.16970670e-01,\n",
       "       -3.00206453e-01,  3.50783765e-01,  1.05971649e-01, -8.72949809e-02,\n",
       "        3.25273484e-01, -1.36980368e-02,  4.54732776e-02, -2.82855839e-01,\n",
       "        2.77561784e-01,  2.34734684e-01,  3.15324962e-01, -4.15346354e-01,\n",
       "        4.12473902e-02, -5.01250699e-02, -1.93674147e-01,  2.58146793e-01,\n",
       "       -3.14721093e-02, -8.86798427e-02, -7.94952959e-02,  1.72443800e-02,\n",
       "        4.34507102e-01,  2.47816458e-01, -1.95621967e-01, -1.51682496e-01,\n",
       "       -2.72514641e-01,  3.47647101e-01,  1.01221240e+00,  3.12114626e-01,\n",
       "       -4.83552292e-02, -2.54816979e-01, -6.12732135e-02, -5.79020046e-02,\n",
       "        1.60729870e-01, -3.11040342e-01,  6.38830662e-02,  2.26862833e-01,\n",
       "       -3.15568969e-02, -4.63229716e-01, -1.23970293e-01,  3.35082978e-01,\n",
       "       -1.26040950e-01,  3.26696783e-01, -2.95618117e-01,  4.66010362e-01,\n",
       "        3.78774196e-01,  5.46030067e-02,  2.15763018e-01, -4.81134318e-02,\n",
       "        7.47344375e-01,  1.83741897e-01, -6.80251598e-01, -4.54319715e-01,\n",
       "        4.30906057e-01, -1.43981129e-01, -8.91144156e-01, -1.67557508e-01,\n",
       "        3.58845264e-01,  6.60227418e-01, -2.85147667e-01, -8.43852818e-01,\n",
       "        2.62191594e-01, -6.50564358e-02, -4.69532758e-01,  3.46877635e-01,\n",
       "       -2.44553238e-01,  3.74259382e-01,  4.97373849e-01, -4.72260475e-01,\n",
       "        2.00762048e-01, -1.25299782e-01, -4.61196750e-02,  6.56198204e-01,\n",
       "        1.33695096e-01,  5.53787053e-01,  3.23005393e-02,  1.28995642e-01,\n",
       "        3.75530630e-01, -5.62919319e-01,  2.42210373e-01, -6.52675629e-02,\n",
       "       -2.64157385e-01, -2.14195594e-01,  7.70893916e-02, -2.86429916e-02,\n",
       "        3.73746544e-01, -2.81213731e-01,  3.99851024e-01,  6.44108713e-01,\n",
       "       -2.12922052e-01,  1.44163799e-02,  5.00056800e-03,  7.82444596e-01,\n",
       "        4.61048633e-01,  2.64540046e-01,  5.52936494e-01,  4.88955885e-01,\n",
       "       -1.48701817e-01, -2.41512090e-01,  2.54858494e-01, -1.41283810e-01,\n",
       "        3.73641610e-01, -2.11270284e-02,  4.83323187e-01, -6.24503791e-01,\n",
       "        5.93586326e-01,  3.38948280e-01, -4.18671221e-02, -1.15573719e-01,\n",
       "        2.79779017e-01, -5.80527544e-01, -4.20650959e-01, -3.54580641e-01,\n",
       "       -2.30297376e-03,  1.40789086e-02, -3.27263057e-01,  1.35591611e-01,\n",
       "       -2.54614592e-01,  9.56176892e-02, -6.74712360e-02, -6.05338812e-01,\n",
       "       -4.71385211e-01,  6.16661787e-01,  2.30716005e-01,  4.15045589e-01,\n",
       "        3.73983711e-01,  1.08657088e-02, -6.26069820e-03,  6.30121350e-01,\n",
       "        4.66180533e-01, -4.29765433e-01, -5.97911656e-01, -2.10459530e-01,\n",
       "        3.01909111e-02, -3.22196893e-02,  4.21621919e-01,  6.47584498e-02,\n",
       "        1.72108203e-01,  1.47067934e-01, -5.24863482e-01,  2.75126636e-01,\n",
       "        5.42299747e-02,  2.89940685e-01,  5.35529077e-01,  7.91801438e-02,\n",
       "        2.94981271e-01, -6.89313710e-02,  5.11155665e-01, -8.04737926e-01,\n",
       "        5.33454061e-01, -8.92483070e-02, -1.33507952e-01,  3.47855836e-01,\n",
       "        8.46833959e-02,  4.36851174e-01, -5.21522880e-01,  2.61511296e-01,\n",
       "       -5.36102839e-02, -3.77940804e-01,  2.85160929e-01, -3.44849378e-02,\n",
       "        3.34315032e-01, -6.41910434e-01, -6.56719208e-02, -2.20784023e-01,\n",
       "       -2.93429077e-01,  5.86717296e-03,  1.62196770e-01,  9.43287387e-02,\n",
       "       -1.91394314e-01, -6.01098761e-02, -3.91780376e-01, -3.07743818e-01,\n",
       "       -2.32573375e-01,  1.09157234e-01,  8.65808874e-02,  2.88490802e-01,\n",
       "       -5.20971835e-01, -3.18283916e-01, -2.61489987e-01,  5.92970431e-01,\n",
       "        4.43933874e-01,  5.81093244e-02,  2.74061650e-01, -4.55907285e-01,\n",
       "        1.20702028e-01,  3.83857936e-01, -1.92159325e-01, -1.31318226e-01,\n",
       "        6.14098050e-02,  1.27283454e-01, -3.77729803e-01,  3.81846309e-01,\n",
       "        1.13786101e-01,  3.58302951e-01,  1.56397715e-01,  7.41254091e-01,\n",
       "       -5.44969380e-01,  3.25229645e-01, -3.43722045e-01,  3.24772418e-01,\n",
       "        1.29809231e-01, -5.25973998e-02, -1.63249120e-01,  7.00165808e-01,\n",
       "       -1.82394594e-01, -5.61805785e-01,  3.08100373e-01,  3.85924548e-01,\n",
       "        1.36223763e-01, -1.25330120e-01,  4.62504894e-01,  1.69973671e-01,\n",
       "       -6.29687980e-02,  1.59546509e-01, -2.07338315e-02, -2.87805915e-01,\n",
       "       -5.21552265e-02,  4.25449908e-01, -5.39423227e-01,  7.01877177e-02,\n",
       "       -1.60655499e-01, -5.55532753e-01, -1.38147296e-02, -6.26397252e-01,\n",
       "        5.32272995e-01,  5.64101003e-02, -3.91714811e-01, -5.37018418e-01,\n",
       "        2.47522853e-02,  6.86736941e-01,  3.04687191e-02,  7.11203143e-02,\n",
       "        6.79751635e-01, -2.09793046e-01,  2.93562084e-01,  2.84325570e-01],\n",
       "      dtype=float32)"
      ]
     },
     "execution_count": 9,
     "metadata": {},
     "output_type": "execute_result"
    }
   ],
   "source": [
    "fasttext_embedding_idx['volcano']"
   ]
  },
  {
   "cell_type": "code",
   "execution_count": 10,
   "metadata": {},
   "outputs": [
    {
     "name": "stdout",
     "output_type": "stream",
     "text": [
      "['what', 'is', 'this']\n"
     ]
    }
   ],
   "source": [
    "tweet = \"what is this\"\n",
    "wordlist = tweet.split()\n",
    "print(wordlist)"
   ]
  },
  {
   "cell_type": "code",
   "execution_count": 11,
   "metadata": {},
   "outputs": [
    {
     "name": "stdout",
     "output_type": "stream",
     "text": [
      "[array([ 0.16778643, -0.34444407,  0.6230939 , -0.20073576, -0.34813288,\n",
      "        0.02173916, -0.11704082,  0.06076448, -0.36336082, -0.00892314],\n",
      "      dtype=float32), array([-3.5111606e-03, -1.0835886e-02,  4.1052923e-01, -3.4856796e-04,\n",
      "        2.5777566e-01,  6.7859411e-02, -1.9315183e-02,  7.9721659e-02,\n",
      "       -1.0232431e-01,  4.5790672e-02], dtype=float32), array([ 0.10859463, -0.21322455,  0.31789047, -0.13303414,  0.08827708,\n",
      "       -0.24054845, -0.06803452, -0.21234249,  0.32304865,  0.04080255],\n",
      "      dtype=float32)]\n"
     ]
    }
   ],
   "source": [
    "embedlist = []\n",
    "for i in wordlist:\n",
    "    embedlist.append(fasttext_embedding_idx[i][:10])\n",
    "print(embedlist)    \n"
   ]
  }
 ],
 "metadata": {
  "kernelspec": {
   "display_name": "Python 3",
   "language": "python",
   "name": "python3"
  },
  "language_info": {
   "codemirror_mode": {
    "name": "ipython",
    "version": 3
   },
   "file_extension": ".py",
   "mimetype": "text/x-python",
   "name": "python",
   "nbconvert_exporter": "python",
   "pygments_lexer": "ipython3",
   "version": "3.6.6"
  }
 },
 "nbformat": 4,
 "nbformat_minor": 4
}
